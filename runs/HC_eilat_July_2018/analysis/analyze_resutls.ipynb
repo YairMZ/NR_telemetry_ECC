{
 "cells": [
  {
   "cell_type": "code",
   "execution_count": 1,
   "metadata": {
    "pycharm": {
     "name": "#%%\n"
    }
   },
   "outputs": [],
   "source": [
    "import pickle\n",
    "import pandas as pd\n",
    "import seaborn as sns\n",
    "\n",
    "result_file = \"../results/2022-04-03_8_24_56/iteration_0_time_2022-04-03_8_24_56_simulation_entropy_vs_pure_LDPC_weighted_model.pickle\"\n",
    "summary_file = \"../results/2022-04-03_8_24_56/iteration_0_time_2022-04-03_8_24_56_summary_entropy_vs_pure_LDPC_weighted_model.pickle\"\n",
    "with open(result_file, 'rb') as f:\n",
    "    results = pickle.load(f)\n",
    "\n",
    "with open(summary_file, 'rb') as f:\n",
    "    summary = pickle.load(f)\n",
    "sns.set_theme(style=\"darkgrid\")"
   ]
  },
  {
   "cell_type": "code",
   "execution_count": null,
   "metadata": {
    "pycharm": {
     "name": "#%%\n",
     "is_executing": true
    }
   },
   "outputs": [],
   "source": [
    "ber_df = pd.DataFrame({\n",
    "    \"BP\": pd.Series(summary['ldpc_ber'], index=summary['raw_ber'], name=\"BP\"),\n",
    "    \"entropy\": pd.Series(summary['entropy_ber'], index=summary['raw_ber'], name=\"entropy\"),\n",
    "    \"raw\": pd.Series(summary['raw_ber'], index=summary['raw_ber'], name=\"raw\")\n",
    "}, index=pd.Series(summary['raw_ber'], index=summary['raw_ber'], name=\"raw\"))\n",
    "ber_df_m = ber_df.melt(var_name=\"decoder\", value_name=\"ber\", ignore_index=False)\n",
    "\n",
    "decoding_df = pd.DataFrame({\n",
    "    \"BP\": pd.Series(summary['ldpc_buffer_success_rate'], index=summary['raw_ber'], name=\"BP\"),\n",
    "    \"entropy\": pd.Series(summary['entropy_buffer_success_rate'], index=summary['raw_ber'], name=\"entropy\")\n",
    "}, index=pd.Series(summary['raw_ber'], index=summary['raw_ber'], name=\"raw\"))\n",
    "decoding_df_m = decoding_df.melt(var_name=\"decoder\", value_name=\"decode success rate\", ignore_index=False)"
   ]
  },
  {
   "cell_type": "code",
   "execution_count": null,
   "metadata": {
    "pycharm": {
     "name": "#%%\n",
     "is_executing": true
    }
   },
   "outputs": [],
   "source": [
    "sns.relplot(x=\"raw\", y=\"ber\", hue=\"decoder\", style=\"decoder\", data=ber_df_m)\n",
    "sns.relplot(x=\"raw\", y=\"decode success rate\", hue=\"decoder\", style=\"decoder\", data=decoding_df_m)"
   ]
  },
  {
   "cell_type": "code",
   "execution_count": null,
   "metadata": {
    "pycharm": {
     "name": "#%%\n",
     "is_executing": true
    }
   },
   "outputs": [],
   "source": [
    "import plotly.express as px\n",
    "fig = px.scatter(ber_df_m, y=\"ber\", color=\"decoder\", symbol=\"decoder\")\n",
    "fig.update_traces(marker_size=10)\n",
    "fig.show()\n",
    "fig = px.scatter(decoding_df_m, y=\"decode success rate\", color=\"decoder\", symbol=\"decoder\")\n",
    "fig.update_traces(marker_size=10)\n",
    "fig.show()"
   ]
  },
  {
   "cell_type": "code",
   "execution_count": null,
   "metadata": {
    "pycharm": {
     "is_executing": true
    }
   },
   "outputs": [],
   "source": [
    "good_result_file = \"../results/2022-04-02_20_24_12/2022-04-02_20_24_12_simulation_entropy_vs_pure_LDPC_weighted_model.pickle\"\n",
    "good_summary_file = \"../results/2022-04-02_20_24_12/2022-04-02_20_24_12_summary_entropy_vs_pure_LDPC_weighted_model.pickle\"\n",
    "with open(result_file, 'rb') as f:\n",
    "    good_results = pickle.load(f)\n",
    "\n",
    "with open(summary_file, 'rb') as f:\n",
    "    good_summary = pickle.load(f)"
   ]
  },
  {
   "cell_type": "code",
   "execution_count": null,
   "outputs": [],
   "source": [
    "good_ber_df = pd.DataFrame({\n",
    "    \"BP\": pd.Series(good_summary['ldpc_ber'], index=good_summary['raw_ber'], name=\"BP\"),\n",
    "    \"entropy\": pd.Series(good_summary['entropy_ber'], index=good_summary['raw_ber'], name=\"entropy\"),\n",
    "    \"raw\": pd.Series(good_summary['raw_ber'], index=good_summary['raw_ber'], name=\"raw\")\n",
    "}, index=pd.Series(good_summary['raw_ber'], index=good_summary['raw_ber'], name=\"raw\"))\n",
    "good_ber_df_m = good_ber_df.melt(var_name=\"decoder\", value_name=\"ber\", ignore_index=False)\n",
    "\n",
    "good_decoding_df = pd.DataFrame({\n",
    "    \"BP\": pd.Series(good_summary['ldpc_buffer_success_rate'], index=good_summary['raw_ber'], name=\"BP\"),\n",
    "    \"entropy\": pd.Series(good_summary['entropy_buffer_success_rate'], index=good_summary['raw_ber'], name=\"entropy\")\n",
    "}, index=pd.Series(good_summary['raw_ber'], index=good_summary['raw_ber'], name=\"raw\"))\n",
    "good_decoding_df_m = good_decoding_df.melt(var_name=\"decoder\", value_name=\"decode success rate\", ignore_index=False)"
   ],
   "metadata": {
    "collapsed": false,
    "pycharm": {
     "name": "#%%\n",
     "is_executing": true
    }
   }
  },
  {
   "cell_type": "code",
   "execution_count": null,
   "outputs": [],
   "source": [
    "import plotly.express as px\n",
    "fig = px.scatter(good_ber_df_m, y=\"ber\", color=\"decoder\", symbol=\"decoder\")\n",
    "fig.update_traces(marker_size=10)\n",
    "fig.show()\n",
    "fig = px.scatter(good_decoding_df_m, y=\"decode success rate\", color=\"decoder\", symbol=\"decoder\")\n",
    "fig.update_traces(marker_size=10)\n",
    "fig.show()"
   ],
   "metadata": {
    "collapsed": false,
    "pycharm": {
     "name": "#%%\n",
     "is_executing": true
    }
   }
  },
  {
   "cell_type": "code",
   "execution_count": null,
   "outputs": [],
   "source": [],
   "metadata": {
    "collapsed": false,
    "pycharm": {
     "name": "#%%\n",
     "is_executing": true
    }
   }
  }
 ],
 "metadata": {
  "kernelspec": {
   "display_name": "Python 3 (ipykernel)",
   "language": "python",
   "name": "python3"
  },
  "language_info": {
   "codemirror_mode": {
    "name": "ipython",
    "version": 3
   },
   "file_extension": ".py",
   "mimetype": "text/x-python",
   "name": "python",
   "nbconvert_exporter": "python",
   "pygments_lexer": "ipython3",
   "version": "3.9.10"
  }
 },
 "nbformat": 4,
 "nbformat_minor": 1
}